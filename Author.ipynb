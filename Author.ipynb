{
 "cells": [
  {
   "cell_type": "markdown",
   "id": "dd5a886e",
   "metadata": {},
   "source": [
    "# #Author"
   ]
  },
  {
   "cell_type": "markdown",
   "id": "1cf220e4",
   "metadata": {},
   "source": [
    "Brook Afework"
   ]
  },
  {
   "cell_type": "markdown",
   "id": "351b31bf",
   "metadata": {},
   "source": []
  },
  {
   "cell_type": "markdown",
   "id": "2e3e9851",
   "metadata": {},
   "source": []
  },
  {
   "cell_type": "markdown",
   "id": "0b943bc3",
   "metadata": {},
   "source": []
  }
 ],
 "metadata": {
  "kernelspec": {
   "display_name": "Python 3 (ipykernel)",
   "language": "python",
   "name": "python3"
  },
  "language_info": {
   "codemirror_mode": {
    "name": "ipython",
    "version": 3
   },
   "file_extension": ".py",
   "mimetype": "text/x-python",
   "name": "python",
   "nbconvert_exporter": "python",
   "pygments_lexer": "ipython3",
   "version": "3.9.7"
  }
 },
 "nbformat": 4,
 "nbformat_minor": 5
}
